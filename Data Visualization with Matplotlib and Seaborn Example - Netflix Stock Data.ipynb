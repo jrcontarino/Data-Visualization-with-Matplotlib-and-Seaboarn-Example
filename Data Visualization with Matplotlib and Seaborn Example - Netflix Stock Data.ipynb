{
 "cells": [
  {
   "cell_type": "markdown",
   "metadata": {},
   "source": [
    "# Data Visualization Example with Netflix's Stock"
   ]
  },
  {
   "cell_type": "markdown",
   "metadata": {},
   "source": [
    "## Import Packages"
   ]
  },
  {
   "cell_type": "code",
   "execution_count": 1,
   "metadata": {},
   "outputs": [],
   "source": [
    "from matplotlib import pyplot as plt\n",
    "import pandas as pd\n",
    "import seaborn as sns"
   ]
  },
  {
   "cell_type": "markdown",
   "metadata": {},
   "source": [
    "## Load and Inspect Data"
   ]
  },
  {
   "cell_type": "code",
   "execution_count": 4,
   "metadata": {},
   "outputs": [
    {
     "name": "stdout",
     "output_type": "stream",
     "text": [
      "Netflix:\n",
      "         Date        Open        High         Low       Close   Adj Close  \\\n",
      "0  2017-01-01  124.959999  143.460007  124.309998  140.710007  140.710007   \n",
      "1  2017-02-01  141.199997  145.949997  139.050003  142.130005  142.130005   \n",
      "2  2017-03-01  142.839996  148.289993  138.259995  147.809998  147.809998   \n",
      "3  2017-04-01  146.699997  153.520004  138.660004  152.199997  152.199997   \n",
      "4  2017-05-01  151.910004  164.750000  151.610001  163.070007  163.070007   \n",
      "\n",
      "      Volume  \n",
      "0  181772200  \n",
      "1   91432000  \n",
      "2  110692700  \n",
      "3  149769200  \n",
      "4  116795800  \n",
      "<class 'pandas.core.frame.DataFrame'>\n",
      "RangeIndex: 12 entries, 0 to 11\n",
      "Data columns (total 7 columns):\n",
      " #   Column     Non-Null Count  Dtype  \n",
      "---  ------     --------------  -----  \n",
      " 0   Date       12 non-null     object \n",
      " 1   Open       12 non-null     float64\n",
      " 2   High       12 non-null     float64\n",
      " 3   Low        12 non-null     float64\n",
      " 4   Close      12 non-null     float64\n",
      " 5   Adj Close  12 non-null     float64\n",
      " 6   Volume     12 non-null     int64  \n",
      "dtypes: float64(5), int64(1), object(1)\n",
      "memory usage: 800.0+ bytes\n",
      "None \n",
      "\n",
      "Dow Jones:\n",
      "         Date          Open          High           Low         Close  \\\n",
      "0  2017-01-01  19872.859375  20125.580078  19677.939453  19864.089844   \n",
      "1  2017-02-01  19923.810547  20851.330078  19831.089844  20812.240234   \n",
      "2  2017-03-01  20957.289063  21169.109375  20412.800781  20663.220703   \n",
      "3  2017-04-01  20665.169922  21070.900391  20379.550781  20940.509766   \n",
      "4  2017-05-01  20962.730469  21112.320313  20553.449219  21008.650391   \n",
      "\n",
      "      Adj Close      Volume  \n",
      "0  19864.089844  6482450000  \n",
      "1  20812.240234  6185580000  \n",
      "2  20663.220703  6941970000  \n",
      "3  20940.509766  5392630000  \n",
      "4  21008.650391  6613570000  \n",
      "<class 'pandas.core.frame.DataFrame'>\n",
      "RangeIndex: 12 entries, 0 to 11\n",
      "Data columns (total 7 columns):\n",
      " #   Column     Non-Null Count  Dtype  \n",
      "---  ------     --------------  -----  \n",
      " 0   Date       12 non-null     object \n",
      " 1   Open       12 non-null     float64\n",
      " 2   High       12 non-null     float64\n",
      " 3   Low        12 non-null     float64\n",
      " 4   Close      12 non-null     float64\n",
      " 5   Adj Close  12 non-null     float64\n",
      " 6   Volume     12 non-null     int64  \n",
      "dtypes: float64(5), int64(1), object(1)\n",
      "memory usage: 800.0+ bytes\n",
      "None\n"
     ]
    }
   ],
   "source": [
    "netflix_stocks = pd.read_csv('NFLX.csv')\n",
    "print(\"Netflix:\")\n",
    "print(netflix_stocks.head())\n",
    "print(netflix_stocks.info(), \"\\n\")\n",
    "\n",
    "dowjones_stocks = pd.read_csv('DJI.csv')\n",
    "print(\"Dow Jones:\")\n",
    "print(dowjones_stocks.head())\n",
    "print(dowjones_stocks.info())"
   ]
  },
  {
   "cell_type": "markdown",
   "metadata": {},
   "source": [
    "The first two datasets have 7 columns and 12 rows consisting the first day of each month in 2017."
   ]
  },
  {
   "cell_type": "code",
   "execution_count": 5,
   "metadata": {
    "scrolled": true
   },
   "outputs": [
    {
     "name": "stdout",
     "output_type": "stream",
     "text": [
      "Netflix Quarterly:\n",
      "         Date        Open        High         Low       Close   Adj Close  \\\n",
      "0  2017-01-03  124.959999  128.190002  124.309998  127.489998  127.489998   \n",
      "1  2017-01-04  127.489998  130.169998  126.550003  129.410004  129.410004   \n",
      "2  2017-01-05  129.220001  132.750000  128.899994  131.809998  131.809998   \n",
      "3  2017-01-06  132.080002  133.880005  129.809998  131.070007  131.070007   \n",
      "4  2017-01-09  131.479996  131.990005  129.889999  130.949997  130.949997   \n",
      "\n",
      "     Volume Quarter  \n",
      "0   9437900      Q1  \n",
      "1   7843600      Q1  \n",
      "2  10185500      Q1  \n",
      "3  10657900      Q1  \n",
      "4   5766900      Q1  \n",
      "<class 'pandas.core.frame.DataFrame'>\n",
      "RangeIndex: 251 entries, 0 to 250\n",
      "Data columns (total 8 columns):\n",
      " #   Column     Non-Null Count  Dtype  \n",
      "---  ------     --------------  -----  \n",
      " 0   Date       251 non-null    object \n",
      " 1   Open       251 non-null    float64\n",
      " 2   High       251 non-null    float64\n",
      " 3   Low        251 non-null    float64\n",
      " 4   Close      251 non-null    float64\n",
      " 5   Adj Close  251 non-null    float64\n",
      " 6   Volume     251 non-null    int64  \n",
      " 7   Quarter    251 non-null    object \n",
      "dtypes: float64(5), int64(1), object(2)\n",
      "memory usage: 15.8+ KB\n",
      "None\n"
     ]
    }
   ],
   "source": [
    "netflix_stocks_quarterly = pd.read_csv('NFLX_daily_by_quarter.csv')\n",
    "print(\"Netflix Quarterly:\")\n",
    "print(netflix_stocks_quarterly.head())\n",
    "print(netflix_stocks_quarterly.info())"
   ]
  },
  {
   "cell_type": "markdown",
   "metadata": {},
   "source": [
    "This third dataset has an additional column indicating the quarter and constists of 251 total entries, over the course of the 2017 year.  The first two datasets are the first day in every month of 2017 the last one is by day for each quarter."
   ]
  },
  {
   "cell_type": "markdown",
   "metadata": {},
   "source": [
    "## Clean Data"
   ]
  },
  {
   "cell_type": "code",
   "execution_count": 8,
   "metadata": {},
   "outputs": [
    {
     "name": "stdout",
     "output_type": "stream",
     "text": [
      "         Date        Open        High         Low       Close       Price  \\\n",
      "0  2017-01-01  124.959999  143.460007  124.309998  140.710007  140.710007   \n",
      "1  2017-02-01  141.199997  145.949997  139.050003  142.130005  142.130005   \n",
      "2  2017-03-01  142.839996  148.289993  138.259995  147.809998  147.809998   \n",
      "3  2017-04-01  146.699997  153.520004  138.660004  152.199997  152.199997   \n",
      "4  2017-05-01  151.910004  164.750000  151.610001  163.070007  163.070007   \n",
      "\n",
      "      Volume  \n",
      "0  181772200  \n",
      "1   91432000  \n",
      "2  110692700  \n",
      "3  149769200  \n",
      "4  116795800  \n"
     ]
    }
   ],
   "source": [
    "#print(\"Netflix Columns:\")\n",
    "#print(netflix_stocks.columns, \"\\n\")\n",
    "\n",
    "## Rename Columns\n",
    "netflix_stocks.rename(columns={\"Adj Close\":\"Price\"}, inplace = True)\n",
    "dowjones_stocks.rename(columns={\"Adj Close\":\"Price\"}, inplace = True)\n",
    "netflix_stocks_quarterly.rename(columns={\"Adj Close\":\"Price\"}, inplace = True)\n",
    "\n",
    "## Check\n",
    "print(netflix_stocks.head())\n",
    "#print(dowjones_stocks.head())\n",
    "#print(netflix_stocks_quarterly.head())"
   ]
  },
  {
   "cell_type": "markdown",
   "metadata": {},
   "source": [
    "## Visualize Netflix Quarterly Data with Violin Graph"
   ]
  },
  {
   "cell_type": "code",
   "execution_count": 9,
   "metadata": {},
   "outputs": [
    {
     "data": {
      "image/png": "[encoded data removed]",
      "text/plain": [
       "<Figure size 432x288 with 1 Axes>"
      ]
     },
     "metadata": {
      "needs_background": "light"
     },
     "output_type": "display_data"
    }
   ],
   "source": [
    "ax = sns.violinplot(netflix_stocks_quarterly.Quarter, netflix_stocks_quarterly.Price, data = netflix_stocks_quarterly)\n",
    "ax.set_title(\"Distribution of 2017 Netflix Stock Prices by Quarter\")\n",
    "ax.set_xlabel(\"Business Quarters in 2017\")\n",
    "ax.set_ylabel(\"Closing Stock Price\")\n",
    "\n",
    "plt.show()"
   ]
  },
  {
   "cell_type": "markdown",
   "metadata": {},
   "source": [
    "There is a general trend upwards as the year progresses. The third quarter has the most skewed distribution which means it had the most range throughout the quarter. Other than quarter three, the other quarters are bimodal with a smaller rise in the beginning of the quarter and a higher rise towards the end. The lowest price was around 120 and the highest around 200, with the price mostly staying between 140 to just under 200."
   ]
  },
  {
   "cell_type": "markdown",
   "metadata": {},
   "source": [
    "## Visual Actual vs. Predicted EPS"
   ]
  },
  {
   "cell_type": "code",
   "execution_count": 10,
   "metadata": {},
   "outputs": [
    {
     "data": {
      "image/png": "[encoded data removed]",
      "text/plain": [
       "<Figure size 432x288 with 1 Axes>"
      ]
     },
     "metadata": {
      "needs_background": "light"
     },
     "output_type": "display_data"
    }
   ],
   "source": [
    "x_positions = [1, 2, 3, 4]\n",
    "chart_labels = [\"1Q2017\",\"2Q2017\",\"3Q2017\",\"4Q2017\"]\n",
    "earnings_actual =[.4, .15,.29,.41]\n",
    "earnings_estimate = [.37,.15,.32,.41 ]\n",
    "\n",
    "plt.scatter(x_positions, earnings_actual, color = \"red\", alpha= .5)\n",
    "plt.scatter(x_positions, earnings_estimate, color = \"blue\", alpha= .5)\n",
    "plt.legend([\"Actual\", \"Estimate\"])\n",
    "plt.xlabel(\"Quarter\")\n",
    "plt.ylabel(\"EPS\")\n",
    "plt.xticks(x_positions, chart_labels)\n",
    "plt.title(\"Earnings Per Share in Cents\")\n",
    "\n",
    "plt.show()"
   ]
  },
  {
   "cell_type": "markdown",
   "metadata": {},
   "source": [
    "In the first quarter, Actual EPS is higher than the estimate by about .04. For the second and fourth quarter, the estimate and actual are the same. And for the 3rd quarter the estimate is higher than the actual by about .02."
   ]
  },
  {
   "cell_type": "markdown",
   "metadata": {},
   "source": [
    "## Visualize Netflix Earnings and Revenue by Quarter"
   ]
  },
  {
   "cell_type": "code",
   "execution_count": 11,
   "metadata": {},
   "outputs": [
    {
     "data": {
      "image/png": "[encoded data removed]",
      "text/plain": [
       "<Figure size 432x288 with 1 Axes>"
      ]
     },
     "metadata": {
      "needs_background": "light"
     },
     "output_type": "display_data"
    }
   ],
   "source": [
    "# The metrics below are in billions of dollars\n",
    "revenue_by_quarter = [2.79, 2.98,3.29,3.7]\n",
    "earnings_by_quarter = [.0656,.12959,.18552,.29012]\n",
    "quarter_labels = [\"2Q2017\",\"3Q2017\",\"4Q2017\", \"1Q2018\"]\n",
    "\n",
    "# Revenue\n",
    "n = 1  # This is our first dataset (out of 2)\n",
    "t = 2 # Number of dataset\n",
    "d =  4 # Number of sets of bars\n",
    "w = .8 # Width of each bar\n",
    "bars1_x = [t*element + w*n for element\n",
    "             in range(d)]\n",
    "plt.bar(bars1_x, revenue_by_quarter)\n",
    "\n",
    "\n",
    "# Earnings\n",
    "n = 2  # This is our second dataset (out of 2)\n",
    "t = 2 # Number of dataset\n",
    "d = 4 # Number of sets of bars\n",
    "w = .8 # Width of each bar\n",
    "bars2_x = [t*element + w*n for element\n",
    "             in range(d)]\n",
    "plt.bar(bars2_x, earnings_by_quarter)\n",
    "\n",
    "\n",
    "middle_x = [ (a + b) / 2.0 for a, b in zip(bars1_x, bars2_x)]\n",
    "labels = [\"Revenue\", \"Earnings\"]\n",
    "\n",
    "plt.legend(labels)\n",
    "plt.xticks(middle_x, quarter_labels)\n",
    "plt.title(\"Revenue and Earnings by Quarter(in billions of dollars)\")\n",
    "plt.xlabel(\"Quarters\")\n",
    "plt.ylabel(\"Amount(in billions of dollars)\")\n",
    "\n",
    "plt.show()"
   ]
  },
  {
   "cell_type": "markdown",
   "metadata": {},
   "source": [
    "Both revenue and earnings increase each quarter.  Earnings is only a small percent of revenue each quarter, from about 2% to 8%."
   ]
  },
  {
   "cell_type": "markdown",
   "metadata": {},
   "source": [
    "## Compare Netflix stock to Dow Jones"
   ]
  },
  {
   "cell_type": "code",
   "execution_count": 12,
   "metadata": {},
   "outputs": [
    {
     "data": {
      "image/png": "[encoded data removed]",
      "text/plain": [
       "<Figure size 432x288 with 2 Axes>"
      ]
     },
     "metadata": {
      "needs_background": "light"
     },
     "output_type": "display_data"
    }
   ],
   "source": [
    "# Left plot Netflix\n",
    "ax1 = plt.subplot(1, 2, 1)\n",
    "ax1.plot(range(1,13), netflix_stocks['Price'])\n",
    "ax1.set_xticks(range(1,13))\n",
    "ax1.set_title(\"Netflix\")\n",
    "ax1.set_xlabel(\"Month\")\n",
    "ax1.set_ylabel(\"Stock Price\")\n",
    "\n",
    "\n",
    "\n",
    "# Right plot Dow Jones\n",
    "ax2 = plt.subplot(1, 2, 2)\n",
    "ax2.plot(range(1,13), dowjones_stocks['Price'])\n",
    "ax2.set_title(\"Dow Jones\")\n",
    "ax2.set_xticks(range(1,13))\n",
    "ax2.set_xlabel(\"Month\")\n",
    "ax2.set_ylabel(\"Stock Price\")\n",
    "\n",
    "plt.subplots_adjust(wspace=.5)\n",
    "plt.show()\n",
    "#plt.savefig(\"2017 Netflix and Dow Jones Stock Prices.png\") #save figure if desired"
   ]
  },
  {
   "cell_type": "markdown",
   "metadata": {},
   "source": [
    "Both Netflix and the Dow Jones have the same general trend upwards. As the Dow Jones is more of an overall picture of the market it has less dips than Netflix does throughout the year. The max stock price for Netflix in 2017 was around 200 while it's lowest was 140. It ended the year at around 190."
   ]
  }
 ],
 "metadata": {
  "kernelspec": {
   "display_name": "Python 3",
   "language": "python",
   "name": "python3"
  },
  "language_info": {
   "codemirror_mode": {
    "name": "ipython",
    "version": 3
   },
   "file_extension": ".py",
   "mimetype": "text/x-python",
   "name": "python",
   "nbconvert_exporter": "python",
   "pygments_lexer": "ipython3",
   "version": "3.7.6"
  }
 },
 "nbformat": 4,
 "nbformat_minor": 4
}
